{
 "cells": [
  {
   "cell_type": "code",
   "execution_count": 40,
   "metadata": {},
   "outputs": [],
   "source": [
    "import pandas as pd\n",
    "import numpy as np\n",
    "import glob\n",
    "import seaborn as sns\n",
    "import matplotlib.pyplot as plt\n",
    "from scipy import stats"
   ]
  },
  {
   "cell_type": "code",
   "execution_count": 41,
   "metadata": {},
   "outputs": [
    {
     "name": "stdout",
     "output_type": "stream",
     "text": [
      "1.4.1\n"
     ]
    }
   ],
   "source": [
    "print(pd.__version__)"
   ]
  },
  {
   "attachments": {},
   "cell_type": "markdown",
   "metadata": {},
   "source": [
    "## Abrir los pickles obtenidos con las siguientes columnas\n",
    "### Main index - Hace referencia al índice del ejemplo de ese corpus TEST\n",
    "### Text - Hace referencia a los tokens usados para el Texto (Se añade NULL al principio para el procesamiento)\n",
    "### Hipótesis - Hace referencia a los tokens usados para la Hipótesis (Se añade NULL al principio para el procesamiento)\n",
    "### R_Text - Hace referencia a los embeddings de los tokens usados para el Texto (Se añade NULL al principio para el procesamiento)\n",
    "### R_Hip - Hace referencia a los embeddings de los tokens usados para la Hipótesis (Se añade NULL al principio para el procesamiento)\n",
    "### M_Align - Hace referencia a la matriz de alineamiento de los tokens del Texto y de la Hipótesis \n",
    "### Prediction - Hace referencia a la predicción del modelo para ese ejemplo\n",
    "### Gol_label - Etiqueta correcta del ejemplo\n",
    "### Idx - Número de ejemplo, el primero es el real y los deḿas son con la hipótesis parafraseada"
   ]
  },
  {
   "cell_type": "code",
   "execution_count": 3,
   "metadata": {},
   "outputs": [],
   "source": [
    "def mayorEtiqueta(a,b,c):\n",
    "    if a > b and a > c:\n",
    "        return 'entailment'\n",
    "    elif c > a and c > b:\n",
    "        return 'contradiction'\n",
    "    else:\n",
    "        return 'neutral'"
   ]
  },
  {
   "cell_type": "code",
   "execution_count": 7,
   "metadata": {},
   "outputs": [],
   "source": [
    "carpeta=\"data/gpt3_salida/\""
   ]
  },
  {
   "cell_type": "code",
   "execution_count": 8,
   "metadata": {},
   "outputs": [
    {
     "data": {
      "text/plain": [
       "'data/gpt3_salida/pOriginales.csv.pickle'"
      ]
     },
     "execution_count": 8,
     "metadata": {},
     "output_type": "execute_result"
    }
   ],
   "source": [
    "a=glob.glob(carpeta+'p*.pickle')\n",
    "a[0]"
   ]
  },
  {
   "cell_type": "code",
   "execution_count": 10,
   "metadata": {},
   "outputs": [
    {
     "name": "stdout",
     "output_type": "stream",
     "text": [
      "3086 neutral entailment\n",
      "2022 neutral entailment\n",
      "6924 neutral contradiction\n",
      "1166 neutral contradiction\n",
      "6791 entailment neutral\n",
      "5290 neutral contradiction\n",
      "971 entailment neutral\n",
      "2258 entailment neutral\n",
      "5701 neutral entailment\n",
      "7341 entailment neutral\n",
      "9654 entailment neutral\n",
      "67 contradiction neutral\n",
      "9339 neutral entailment\n",
      "1099 entailment neutral\n",
      "707 entailment neutral\n",
      "8219 contradiction neutral\n",
      "4625 entailment neutral\n",
      "347 entailment neutral\n",
      "2126 contradiction entailment\n",
      "2164 contradiction neutral\n",
      "2045 entailment contradiction\n",
      "1279 neutral contradiction\n",
      "3922 contradiction neutral\n",
      "4646 entailment neutral\n",
      "3548 contradiction neutral\n",
      "379 neutral entailment\n",
      "2248 contradiction entailment\n",
      "8362 neutral contradiction\n",
      "2433 entailment neutral\n",
      "8759 contradiction neutral\n",
      "1744 neutral entailment\n",
      "9555 neutral contradiction\n",
      "8783 neutral contradiction\n",
      "4803 neutral entailment\n",
      "7959 entailment neutral\n",
      "5840 neutral entailment\n",
      "6739 neutral contradiction\n",
      "8019 neutral contradiction\n",
      "7947 neutral contradiction\n",
      "2715 neutral entailment\n",
      "3016 entailment neutral\n",
      "2081 neutral entailment\n",
      "5019 entailment neutral\n",
      "9735 neutral contradiction\n",
      "9079 entailment neutral\n",
      "7313 contradiction neutral\n",
      "5437 entailment neutral\n",
      "7364 neutral entailment\n",
      "9777 neutral contradiction\n",
      "7023 neutral contradiction\n",
      "4435 neutral entailment\n",
      "5126 entailment neutral\n",
      "395 entailment neutral\n",
      "1795 entailment neutral\n",
      "7507 neutral contradiction\n",
      "1016 entailment contradiction\n",
      "8399 entailment neutral\n",
      "3144 neutral contradiction\n",
      "7260 neutral contradiction\n",
      "9065 neutral entailment\n",
      "4368 entailment neutral\n",
      "8203 entailment contradiction\n",
      "7293 contradiction neutral\n",
      "2619 neutral contradiction\n",
      "1410 entailment neutral\n",
      "1436 neutral entailment\n",
      "8892 neutral entailment\n",
      "8469 entailment contradiction\n",
      "8338 entailment neutral\n",
      "8179 entailment neutral\n",
      "8055 contradiction neutral\n",
      "8164 neutral entailment\n",
      "9607 neutral contradiction\n",
      "3514 contradiction neutral\n",
      "6950 entailment neutral\n",
      "5137 neutral contradiction\n",
      "1715 neutral entailment\n",
      "1359 entailment neutral\n",
      "4555 neutral entailment\n",
      "2488 neutral contradiction\n",
      "3037 contradiction neutral\n",
      "9581 neutral contradiction\n",
      "8385 neutral contradiction\n",
      "7198 neutral entailment\n",
      "7220 entailment neutral\n",
      "85 entailment neutral\n",
      "2880 neutral entailment\n",
      "1612 neutral contradiction\n",
      "1666 neutral contradiction\n",
      "4613 contradiction neutral\n",
      "9579 contradiction neutral\n",
      "7154 entailment contradiction\n",
      "4683 neutral entailment\n",
      "8742 entailment neutral\n",
      "5571 contradiction neutral\n",
      "312 entailment neutral\n",
      "3348 contradiction neutral\n",
      "1677 neutral entailment\n",
      "7731 entailment neutral\n",
      "875 neutral entailment\n",
      "186 neutral contradiction\n",
      "9218 neutral contradiction\n",
      "1430 contradiction neutral\n",
      "3487 entailment neutral\n",
      "8372 neutral contradiction\n",
      "7816 contradiction neutral\n",
      "4987 contradiction entailment\n",
      "8861 contradiction neutral\n",
      "8194 neutral contradiction\n",
      "5153 neutral contradiction\n",
      "7830 neutral entailment\n",
      "6751 entailment neutral\n",
      "8342 entailment contradiction\n",
      "4204 contradiction neutral\n",
      "9794 entailment neutral\n",
      "8669 entailment neutral\n",
      "8952 neutral contradiction\n",
      "2748 neutral contradiction\n",
      "2139 entailment neutral\n",
      "5917 entailment neutral\n",
      "6532 contradiction entailment\n",
      "2836 neutral contradiction\n",
      "1880 neutral contradiction\n",
      "699 entailment neutral\n",
      "7374 neutral contradiction\n",
      "1391 neutral entailment\n",
      "2634 entailment neutral\n",
      "7652 entailment neutral\n",
      "8891 neutral entailment\n",
      "6947 neutral contradiction\n",
      "9442 neutral entailment\n",
      "7881 neutral entailment\n",
      "3408 neutral contradiction\n",
      "3850 entailment neutral\n",
      "4642 neutral contradiction\n",
      "330 neutral contradiction\n",
      "9102 entailment contradiction\n",
      "3066 contradiction entailment\n",
      "1318 contradiction neutral\n",
      "3395 neutral contradiction\n",
      "4844 entailment neutral\n",
      "2557 neutral contradiction\n",
      "2734 neutral entailment\n",
      "5671 neutral contradiction\n",
      "1846 entailment neutral\n",
      "7782 contradiction neutral\n",
      "6245 contradiction entailment\n",
      "1342 entailment neutral\n",
      "3064 neutral contradiction\n",
      "3884 entailment neutral\n",
      "5482 entailment neutral\n",
      "946 contradiction entailment\n",
      "6808 neutral entailment\n",
      "2960 neutral contradiction\n",
      "700 neutral contradiction\n",
      "6300 contradiction entailment\n",
      "899 neutral entailment\n",
      "4742 neutral contradiction\n",
      "6420 contradiction neutral\n",
      "7520 neutral contradiction\n",
      "5008 entailment contradiction\n",
      "1271 neutral entailment\n",
      "1739 neutral contradiction\n",
      "1216 entailment neutral\n",
      "2385 entailment neutral\n",
      "6975 entailment neutral\n",
      "2335 contradiction neutral\n",
      "3100 contradiction neutral\n",
      "1682 neutral contradiction\n",
      "2252 entailment neutral\n",
      "6931 neutral contradiction\n"
     ]
    }
   ],
   "source": [
    "prueba=pd.read_pickle(a[0])\n",
    "for index,strings in prueba.iterrows():\n",
    "    if(strings[\"predicted_label\"]!=strings[\"gold_label\"]):\n",
    "        print(strings[\"Idx\"],strings[\"predicted_label\"],strings[\"gold_label\"])"
   ]
  },
  {
   "cell_type": "code",
   "execution_count": 11,
   "metadata": {},
   "outputs": [
    {
     "data": {
      "text/plain": [
       "'data/gpt3_salida/pparaphraseGPT2.csv.pickle'"
      ]
     },
     "execution_count": 11,
     "metadata": {},
     "output_type": "execute_result"
    }
   ],
   "source": [
    "a[1]"
   ]
  },
  {
   "attachments": {},
   "cell_type": "markdown",
   "metadata": {},
   "source": [
    "# Procesamiento de todos los resultados para calcular la entropia de los alineamientos"
   ]
  },
  {
   "cell_type": "code",
   "execution_count": 12,
   "metadata": {},
   "outputs": [],
   "source": [
    "etiquetas=['entailment','neutral','contradiction']"
   ]
  },
  {
   "cell_type": "code",
   "execution_count": 13,
   "metadata": {},
   "outputs": [],
   "source": [
    "def entropia_f(X):\n",
    "    \"\"\"Devuelve el valor de entropia de una muestra de datos\"\"\" \n",
    "    probs = [np.mean(X == valor) for valor in set(X)]\n",
    "    return round(np.sum(-p * np.log2(p) for p in probs)/np.log2(len(X)), 3)"
   ]
  },
  {
   "cell_type": "code",
   "execution_count": 39,
   "metadata": {},
   "outputs": [
    {
     "data": {
      "text/html": [
       "<div>\n",
       "<style scoped>\n",
       "    .dataframe tbody tr th:only-of-type {\n",
       "        vertical-align: middle;\n",
       "    }\n",
       "\n",
       "    .dataframe tbody tr th {\n",
       "        vertical-align: top;\n",
       "    }\n",
       "\n",
       "    .dataframe thead th {\n",
       "        text-align: right;\n",
       "    }\n",
       "</style>\n",
       "<table border=\"1\" class=\"dataframe\">\n",
       "  <thead>\n",
       "    <tr style=\"text-align: right;\">\n",
       "      <th></th>\n",
       "      <th>Docs</th>\n",
       "      <th>grupo</th>\n",
       "      <th>Total</th>\n",
       "      <th>Subtotal</th>\n",
       "      <th>E_P</th>\n",
       "      <th>entropia</th>\n",
       "      <th>Paraphrase</th>\n",
       "    </tr>\n",
       "  </thead>\n",
       "  <tbody>\n",
       "    <tr>\n",
       "      <th>8</th>\n",
       "      <td>data/gpt3_salida/pOriginales.csv.pickle</td>\n",
       "      <td>Originales</td>\n",
       "      <td>58</td>\n",
       "      <td>1</td>\n",
       "      <td>contradiction_contradiction</td>\n",
       "      <td>[0.951]</td>\n",
       "      <td>True</td>\n",
       "    </tr>\n",
       "  </tbody>\n",
       "</table>\n",
       "</div>"
      ],
      "text/plain": [
       "                                      Docs       grupo  Total  Subtotal  \\\n",
       "8  data/gpt3_salida/pOriginales.csv.pickle  Originales     58         1   \n",
       "\n",
       "                           E_P entropia  Paraphrase  \n",
       "8  contradiction_contradiction  [0.951]        True  "
      ]
     },
     "execution_count": 39,
     "metadata": {},
     "output_type": "execute_result"
    }
   ],
   "source": [
    "a"
   ]
  },
  {
   "cell_type": "code",
   "execution_count": 38,
   "metadata": {},
   "outputs": [
    {
     "ename": "FileNotFoundError",
     "evalue": "[Errno 2] No such file or directory: 'Docs'",
     "output_type": "error",
     "traceback": [
      "\u001b[0;31m---------------------------------------------------------------------------\u001b[0m",
      "\u001b[0;31mFileNotFoundError\u001b[0m                         Traceback (most recent call last)",
      "\u001b[1;32m/media/david/adds/MODELOS_PARAPHRASE_RTE/RTE_Parik/visualizacionZscoreGPT3_GPT2.ipynb Celda 13\u001b[0m in \u001b[0;36m<module>\u001b[0;34m\u001b[0m\n\u001b[1;32m      <a href='vscode-notebook-cell:/media/david/adds/MODELOS_PARAPHRASE_RTE/RTE_Parik/visualizacionZscoreGPT3_GPT2.ipynb#X20sZmlsZQ%3D%3D?line=3'>4</a>\u001b[0m i\u001b[39m=\u001b[39m\u001b[39m0\u001b[39m\n\u001b[1;32m      <a href='vscode-notebook-cell:/media/david/adds/MODELOS_PARAPHRASE_RTE/RTE_Parik/visualizacionZscoreGPT3_GPT2.ipynb#X20sZmlsZQ%3D%3D?line=4'>5</a>\u001b[0m \u001b[39mfor\u001b[39;00m e \u001b[39min\u001b[39;00m a:\n\u001b[0;32m----> <a href='vscode-notebook-cell:/media/david/adds/MODELOS_PARAPHRASE_RTE/RTE_Parik/visualizacionZscoreGPT3_GPT2.ipynb#X20sZmlsZQ%3D%3D?line=5'>6</a>\u001b[0m     df\u001b[39m=\u001b[39mpd\u001b[39m.\u001b[39;49mread_pickle(e)\n\u001b[1;32m      <a href='vscode-notebook-cell:/media/david/adds/MODELOS_PARAPHRASE_RTE/RTE_Parik/visualizacionZscoreGPT3_GPT2.ipynb#X20sZmlsZQ%3D%3D?line=6'>7</a>\u001b[0m     df_prediction\u001b[39m=\u001b[39mdf\u001b[39m.\u001b[39mcopy()\n\u001b[1;32m      <a href='vscode-notebook-cell:/media/david/adds/MODELOS_PARAPHRASE_RTE/RTE_Parik/visualizacionZscoreGPT3_GPT2.ipynb#X20sZmlsZQ%3D%3D?line=7'>8</a>\u001b[0m     \u001b[39mfor\u001b[39;00m l1 \u001b[39min\u001b[39;00m etiquetas:\n",
      "File \u001b[0;32m~/.local/lib/python3.8/site-packages/pandas/io/pickle.py:187\u001b[0m, in \u001b[0;36mread_pickle\u001b[0;34m(filepath_or_buffer, compression, storage_options)\u001b[0m\n\u001b[1;32m    124\u001b[0m \u001b[39m\"\"\"\u001b[39;00m\n\u001b[1;32m    125\u001b[0m \u001b[39mLoad pickled pandas object (or any object) from file.\u001b[39;00m\n\u001b[1;32m    126\u001b[0m \n\u001b[0;32m   (...)\u001b[0m\n\u001b[1;32m    184\u001b[0m \u001b[39m4    4    9\u001b[39;00m\n\u001b[1;32m    185\u001b[0m \u001b[39m\"\"\"\u001b[39;00m  \u001b[39m# noqa: E501\u001b[39;00m\n\u001b[1;32m    186\u001b[0m excs_to_catch \u001b[39m=\u001b[39m (\u001b[39mAttributeError\u001b[39;00m, \u001b[39mImportError\u001b[39;00m, \u001b[39mModuleNotFoundError\u001b[39;00m, \u001b[39mTypeError\u001b[39;00m)\n\u001b[0;32m--> 187\u001b[0m \u001b[39mwith\u001b[39;00m get_handle(\n\u001b[1;32m    188\u001b[0m     filepath_or_buffer,\n\u001b[1;32m    189\u001b[0m     \u001b[39m\"\u001b[39;49m\u001b[39mrb\u001b[39;49m\u001b[39m\"\u001b[39;49m,\n\u001b[1;32m    190\u001b[0m     compression\u001b[39m=\u001b[39;49mcompression,\n\u001b[1;32m    191\u001b[0m     is_text\u001b[39m=\u001b[39;49m\u001b[39mFalse\u001b[39;49;00m,\n\u001b[1;32m    192\u001b[0m     storage_options\u001b[39m=\u001b[39;49mstorage_options,\n\u001b[1;32m    193\u001b[0m ) \u001b[39mas\u001b[39;00m handles:\n\u001b[1;32m    194\u001b[0m \n\u001b[1;32m    195\u001b[0m     \u001b[39m# 1) try standard library Pickle\u001b[39;00m\n\u001b[1;32m    196\u001b[0m     \u001b[39m# 2) try pickle_compat (older pandas version) to handle subclass changes\u001b[39;00m\n\u001b[1;32m    197\u001b[0m     \u001b[39m# 3) try pickle_compat with latin-1 encoding upon a UnicodeDecodeError\u001b[39;00m\n\u001b[1;32m    199\u001b[0m     \u001b[39mtry\u001b[39;00m:\n\u001b[1;32m    200\u001b[0m         \u001b[39m# TypeError for Cython complaints about object.__new__ vs Tick.__new__\u001b[39;00m\n\u001b[1;32m    201\u001b[0m         \u001b[39mtry\u001b[39;00m:\n",
      "File \u001b[0;32m~/.local/lib/python3.8/site-packages/pandas/io/common.py:798\u001b[0m, in \u001b[0;36mget_handle\u001b[0;34m(path_or_buf, mode, encoding, compression, memory_map, is_text, errors, storage_options)\u001b[0m\n\u001b[1;32m    789\u001b[0m         handle \u001b[39m=\u001b[39m \u001b[39mopen\u001b[39m(\n\u001b[1;32m    790\u001b[0m             handle,\n\u001b[1;32m    791\u001b[0m             ioargs\u001b[39m.\u001b[39mmode,\n\u001b[0;32m   (...)\u001b[0m\n\u001b[1;32m    794\u001b[0m             newline\u001b[39m=\u001b[39m\u001b[39m\"\u001b[39m\u001b[39m\"\u001b[39m,\n\u001b[1;32m    795\u001b[0m         )\n\u001b[1;32m    796\u001b[0m     \u001b[39melse\u001b[39;00m:\n\u001b[1;32m    797\u001b[0m         \u001b[39m# Binary mode\u001b[39;00m\n\u001b[0;32m--> 798\u001b[0m         handle \u001b[39m=\u001b[39m \u001b[39mopen\u001b[39;49m(handle, ioargs\u001b[39m.\u001b[39;49mmode)\n\u001b[1;32m    799\u001b[0m     handles\u001b[39m.\u001b[39mappend(handle)\n\u001b[1;32m    801\u001b[0m \u001b[39m# Convert BytesIO or file objects passed with an encoding\u001b[39;00m\n",
      "\u001b[0;31mFileNotFoundError\u001b[0m: [Errno 2] No such file or directory: 'Docs'"
     ]
    }
   ],
   "source": [
    "new_data = {'Docs' : [], 'grupo': [], 'Total' : [], 'Subtotal' : [], 'E_P' : [], 'entropia' : [], 'Paraphrase' : []}\n",
    "etiquetas=['entailment','neutral','contradiction']\n",
    "grupo=[\"Originales\",\"GPT2\",\"GPT3\"]\n",
    "i=0\n",
    "for e in a:\n",
    "    df=pd.read_pickle(e)\n",
    "    df_prediction=df.copy()\n",
    "    for l1 in etiquetas:\n",
    "        for l2 in etiquetas:\n",
    "            new_data['Docs'].append(e)\n",
    "            new_data['grupo'].append(grupo[i])  \n",
    "            subtotal=df_prediction[(df_prediction['gold_label']==l1) & (df_prediction['predicted_label']==l2)].shape[0]\n",
    "            total=df_prediction[df_prediction['gold_label']==l1].shape[0]\n",
    "            new_data['Total'].append(total)\n",
    "            new_data['Subtotal'].append(subtotal)\n",
    "            new_data['E_P'].append(l1+\"_\"+l2)\n",
    "            temp=df_prediction[(df_prediction['gold_label']==l1) & (df_prediction['predicted_label']==l2)].copy()\n",
    "            print(temp)\n",
    "            l_entropia=[]\n",
    "            for index,strings in temp.iterrows():\n",
    "                t=strings[1]\n",
    "                h=strings[2]\n",
    "                matriz=strings[5]\n",
    "                matriz_c=matriz[1:len(t)-1,1:len(h)-1]\n",
    "                l_entropia.append(entropia_f(stats.zscore(matriz_c.T).flatten()))\n",
    "            new_data['entropia'].append(np.array(l_entropia[:]))\n",
    "            new_data['Paraphrase'].append(True)\n",
    "            l_entropia.clear()\n",
    "    i+=1\n",
    "dfn=pd.DataFrame(new_data)"
   ]
  },
  {
   "cell_type": "code",
   "execution_count": 34,
   "metadata": {},
   "outputs": [],
   "source": [
    "dfn.to_pickle(carpeta+\"entropia/resultados_entropiaZSCORE_Transponse.pickle\")"
   ]
  },
  {
   "cell_type": "code",
   "execution_count": 35,
   "metadata": {},
   "outputs": [],
   "source": [
    "dfn=pd.read_pickle(carpeta+\"entropia/resultados_entropiaZSCORE_Transponse.pickle\")"
   ]
  },
  {
   "cell_type": "code",
   "execution_count": 36,
   "metadata": {},
   "outputs": [
    {
     "data": {
      "text/html": [
       "<div>\n",
       "<style scoped>\n",
       "    .dataframe tbody tr th:only-of-type {\n",
       "        vertical-align: middle;\n",
       "    }\n",
       "\n",
       "    .dataframe tbody tr th {\n",
       "        vertical-align: top;\n",
       "    }\n",
       "\n",
       "    .dataframe thead th {\n",
       "        text-align: right;\n",
       "    }\n",
       "</style>\n",
       "<table border=\"1\" class=\"dataframe\">\n",
       "  <thead>\n",
       "    <tr style=\"text-align: right;\">\n",
       "      <th></th>\n",
       "      <th>Docs</th>\n",
       "      <th>grupo</th>\n",
       "      <th>Total</th>\n",
       "      <th>Subtotal</th>\n",
       "      <th>E_P</th>\n",
       "      <th>entropia</th>\n",
       "      <th>Paraphrase</th>\n",
       "    </tr>\n",
       "  </thead>\n",
       "  <tbody>\n",
       "    <tr>\n",
       "      <th>0</th>\n",
       "      <td>data/gpt3_salida/pOriginales.csv.pickle</td>\n",
       "      <td>Originales</td>\n",
       "      <td>40</td>\n",
       "      <td>0</td>\n",
       "      <td>entailment_entailment</td>\n",
       "      <td>[]</td>\n",
       "      <td>True</td>\n",
       "    </tr>\n",
       "    <tr>\n",
       "      <th>1</th>\n",
       "      <td>data/gpt3_salida/pOriginales.csv.pickle</td>\n",
       "      <td>Originales</td>\n",
       "      <td>40</td>\n",
       "      <td>32</td>\n",
       "      <td>entailment_neutral</td>\n",
       "      <td>[0.944, 0.942, 0.957, 0.904, 1.0, 0.979, 1.0, ...</td>\n",
       "      <td>True</td>\n",
       "    </tr>\n",
       "    <tr>\n",
       "      <th>2</th>\n",
       "      <td>data/gpt3_salida/pOriginales.csv.pickle</td>\n",
       "      <td>Originales</td>\n",
       "      <td>40</td>\n",
       "      <td>8</td>\n",
       "      <td>entailment_contradiction</td>\n",
       "      <td>[0.982, 0.978, 0.936, 0.957, 0.96, 1.0, 0.941,...</td>\n",
       "      <td>True</td>\n",
       "    </tr>\n",
       "    <tr>\n",
       "      <th>3</th>\n",
       "      <td>data/gpt3_salida/pOriginales.csv.pickle</td>\n",
       "      <td>Originales</td>\n",
       "      <td>75</td>\n",
       "      <td>50</td>\n",
       "      <td>neutral_entailment</td>\n",
       "      <td>[0.979, 1.0, 1.0, 0.969, 1.0, 1.0, 0.903, 0.96...</td>\n",
       "      <td>True</td>\n",
       "    </tr>\n",
       "    <tr>\n",
       "      <th>4</th>\n",
       "      <td>data/gpt3_salida/pOriginales.csv.pickle</td>\n",
       "      <td>Originales</td>\n",
       "      <td>75</td>\n",
       "      <td>1</td>\n",
       "      <td>neutral_neutral</td>\n",
       "      <td>[0.969]</td>\n",
       "      <td>True</td>\n",
       "    </tr>\n",
       "    <tr>\n",
       "      <th>5</th>\n",
       "      <td>data/gpt3_salida/pOriginales.csv.pickle</td>\n",
       "      <td>Originales</td>\n",
       "      <td>75</td>\n",
       "      <td>24</td>\n",
       "      <td>neutral_contradiction</td>\n",
       "      <td>[0.837, 1.0, 0.958, 1.0, 0.909, 0.894, 0.921, ...</td>\n",
       "      <td>True</td>\n",
       "    </tr>\n",
       "    <tr>\n",
       "      <th>6</th>\n",
       "      <td>data/gpt3_salida/pOriginales.csv.pickle</td>\n",
       "      <td>Originales</td>\n",
       "      <td>58</td>\n",
       "      <td>8</td>\n",
       "      <td>contradiction_entailment</td>\n",
       "      <td>[0.953, 1.0, 0.832, 0.953, 0.908, 0.987, 0.976...</td>\n",
       "      <td>True</td>\n",
       "    </tr>\n",
       "    <tr>\n",
       "      <th>7</th>\n",
       "      <td>data/gpt3_salida/pOriginales.csv.pickle</td>\n",
       "      <td>Originales</td>\n",
       "      <td>58</td>\n",
       "      <td>49</td>\n",
       "      <td>contradiction_neutral</td>\n",
       "      <td>[1.0, 0.897, 0.963, 0.947, 0.949, 0.925, 0.951...</td>\n",
       "      <td>True</td>\n",
       "    </tr>\n",
       "    <tr>\n",
       "      <th>8</th>\n",
       "      <td>data/gpt3_salida/pOriginales.csv.pickle</td>\n",
       "      <td>Originales</td>\n",
       "      <td>58</td>\n",
       "      <td>1</td>\n",
       "      <td>contradiction_contradiction</td>\n",
       "      <td>[0.951]</td>\n",
       "      <td>True</td>\n",
       "    </tr>\n",
       "  </tbody>\n",
       "</table>\n",
       "</div>"
      ],
      "text/plain": [
       "                                      Docs       grupo  Total  Subtotal  \\\n",
       "0  data/gpt3_salida/pOriginales.csv.pickle  Originales     40         0   \n",
       "1  data/gpt3_salida/pOriginales.csv.pickle  Originales     40        32   \n",
       "2  data/gpt3_salida/pOriginales.csv.pickle  Originales     40         8   \n",
       "3  data/gpt3_salida/pOriginales.csv.pickle  Originales     75        50   \n",
       "4  data/gpt3_salida/pOriginales.csv.pickle  Originales     75         1   \n",
       "5  data/gpt3_salida/pOriginales.csv.pickle  Originales     75        24   \n",
       "6  data/gpt3_salida/pOriginales.csv.pickle  Originales     58         8   \n",
       "7  data/gpt3_salida/pOriginales.csv.pickle  Originales     58        49   \n",
       "8  data/gpt3_salida/pOriginales.csv.pickle  Originales     58         1   \n",
       "\n",
       "                           E_P  \\\n",
       "0        entailment_entailment   \n",
       "1           entailment_neutral   \n",
       "2     entailment_contradiction   \n",
       "3           neutral_entailment   \n",
       "4              neutral_neutral   \n",
       "5        neutral_contradiction   \n",
       "6     contradiction_entailment   \n",
       "7        contradiction_neutral   \n",
       "8  contradiction_contradiction   \n",
       "\n",
       "                                            entropia  Paraphrase  \n",
       "0                                                 []        True  \n",
       "1  [0.944, 0.942, 0.957, 0.904, 1.0, 0.979, 1.0, ...        True  \n",
       "2  [0.982, 0.978, 0.936, 0.957, 0.96, 1.0, 0.941,...        True  \n",
       "3  [0.979, 1.0, 1.0, 0.969, 1.0, 1.0, 0.903, 0.96...        True  \n",
       "4                                            [0.969]        True  \n",
       "5  [0.837, 1.0, 0.958, 1.0, 0.909, 0.894, 0.921, ...        True  \n",
       "6  [0.953, 1.0, 0.832, 0.953, 0.908, 0.987, 0.976...        True  \n",
       "7  [1.0, 0.897, 0.963, 0.947, 0.949, 0.925, 0.951...        True  \n",
       "8                                            [0.951]        True  "
      ]
     },
     "execution_count": 36,
     "metadata": {},
     "output_type": "execute_result"
    }
   ],
   "source": [
    "dfn"
   ]
  },
  {
   "cell_type": "code",
   "execution_count": 37,
   "metadata": {},
   "outputs": [
    {
     "data": {
      "text/plain": [
       "1"
      ]
     },
     "execution_count": 37,
     "metadata": {},
     "output_type": "execute_result"
    }
   ],
   "source": [
    "len(dfn['grupo'].unique())"
   ]
  },
  {
   "cell_type": "code",
   "execution_count": 20,
   "metadata": {},
   "outputs": [
    {
     "data": {
      "text/plain": [
       "array([], dtype=float64)"
      ]
     },
     "execution_count": 20,
     "metadata": {},
     "output_type": "execute_result"
    }
   ],
   "source": [
    "dfn['entropia'][0]"
   ]
  },
  {
   "cell_type": "code",
   "execution_count": 21,
   "metadata": {},
   "outputs": [
    {
     "data": {
      "text/plain": [
       "['entailment', 'neutral', 'contradiction']"
      ]
     },
     "execution_count": 21,
     "metadata": {},
     "output_type": "execute_result"
    }
   ],
   "source": [
    "etiquetas"
   ]
  },
  {
   "cell_type": "code",
   "execution_count": 22,
   "metadata": {},
   "outputs": [
    {
     "data": {
      "text/plain": [
       "['entailment_entailment',\n",
       " 'entailment_neutral',\n",
       " 'entailment_contradiction',\n",
       " 'neutral_entailment',\n",
       " 'neutral_neutral',\n",
       " 'neutral_contradiction',\n",
       " 'contradiction_entailment',\n",
       " 'contradiction_neutral',\n",
       " 'contradiction_contradiction']"
      ]
     },
     "execution_count": 22,
     "metadata": {},
     "output_type": "execute_result"
    }
   ],
   "source": [
    "labels=[]\n",
    "for e1 in etiquetas:\n",
    "    for e2 in etiquetas:\n",
    "        labels.append(e1+\"_\"+e2)\n",
    "labels"
   ]
  },
  {
   "cell_type": "code",
   "execution_count": 23,
   "metadata": {},
   "outputs": [
    {
     "data": {
      "text/plain": [
       "[array([], dtype=float64),\n",
       " array([0.944, 0.942, 0.957, 0.904, 1.   , 0.979, 1.   , 0.922, 0.969,\n",
       "        0.949, 1.   , 0.966, 0.94 , 0.951, 1.   , 0.887, 0.975, 0.889,\n",
       "        0.96 , 0.975, 0.874, 0.969, 0.997, 0.973, 0.977, 0.96 , 0.927,\n",
       "        0.942, 0.796, 0.949, 1.   , 0.881]),\n",
       " array([0.982, 0.978, 0.936, 0.957, 0.96 , 1.   , 0.941, 0.911]),\n",
       " array([0.979, 1.   , 1.   , 0.969, 1.   , 1.   , 0.903, 0.967, 0.942,\n",
       "        0.898, 1.   , 1.   , 0.918, 0.957, 1.   , 1.   , 0.966, 0.893,\n",
       "        1.   , 0.944, 0.924, 1.   , 1.   , 0.92 , 0.959, 0.858, 0.96 ,\n",
       "        0.878, 1.   , 0.965, 0.853, 0.919, 0.957, 0.868, 0.908, 0.964,\n",
       "        1.   , 0.97 , 1.   , 0.894, 0.972, 0.912, 0.987, 0.902, 1.   ,\n",
       "        1.   , 0.874, 1.   , 0.938, 1.   ]),\n",
       " array([0.969]),\n",
       " array([0.837, 1.   , 0.958, 1.   , 0.909, 0.894, 0.921, 0.993, 0.967,\n",
       "        0.885, 0.905, 0.967, 0.962, 0.933, 0.964, 0.976, 0.977, 1.   ,\n",
       "        0.921, 0.951, 0.956, 1.   , 1.   , 1.   ]),\n",
       " array([0.953, 1.   , 0.832, 0.953, 0.908, 0.987, 0.976, 0.897]),\n",
       " array([1.   , 0.897, 0.963, 0.947, 0.949, 0.925, 0.951, 0.959, 0.912,\n",
       "        0.887, 0.961, 0.969, 0.959, 0.965, 0.959, 0.966, 0.989, 0.934,\n",
       "        0.941, 0.886, 0.983, 0.911, 0.905, 1.   , 0.914, 0.887, 1.   ,\n",
       "        0.966, 0.858, 0.925, 1.   , 0.985, 0.93 , 0.996, 0.87 , 0.942,\n",
       "        0.989, 1.   , 0.953, 0.911, 0.964, 0.973, 0.997, 0.973, 0.956,\n",
       "        0.945, 0.99 , 0.973, 0.953]),\n",
       " array([0.951])]"
      ]
     },
     "execution_count": 23,
     "metadata": {},
     "output_type": "execute_result"
    }
   ],
   "source": [
    "valores_labels=[]\n",
    "for el in labels:\n",
    "    a=dfn[(dfn['E_P']==el)]\n",
    "    b=a['entropia'].values[0]\n",
    "    valores_labels.append(b)\n",
    "valores_labels"
   ]
  },
  {
   "cell_type": "code",
   "execution_count": 24,
   "metadata": {},
   "outputs": [
    {
     "data": {
      "text/plain": [
       "9"
      ]
     },
     "execution_count": 24,
     "metadata": {},
     "output_type": "execute_result"
    }
   ],
   "source": [
    "len(valores_labels)"
   ]
  },
  {
   "cell_type": "code",
   "execution_count": 25,
   "metadata": {},
   "outputs": [
    {
     "data": {
      "text/plain": [
       "([<matplotlib.axis.XTick at 0x7f158e6f1730>,\n",
       "  <matplotlib.axis.XTick at 0x7f158e6f1760>,\n",
       "  <matplotlib.axis.XTick at 0x7f158e6c58b0>,\n",
       "  <matplotlib.axis.XTick at 0x7f158c63fcd0>,\n",
       "  <matplotlib.axis.XTick at 0x7f158c654460>,\n",
       "  <matplotlib.axis.XTick at 0x7f158c654bb0>,\n",
       "  <matplotlib.axis.XTick at 0x7f158c654e80>,\n",
       "  <matplotlib.axis.XTick at 0x7f158c63fca0>,\n",
       "  <matplotlib.axis.XTick at 0x7f158c6597c0>],\n",
       " [Text(0, 0, 'entailment_entailment'),\n",
       "  Text(1, 0, 'entailment_neutral'),\n",
       "  Text(2, 0, 'entailment_contradiction'),\n",
       "  Text(3, 0, 'neutral_entailment'),\n",
       "  Text(4, 0, 'neutral_neutral'),\n",
       "  Text(5, 0, 'neutral_contradiction'),\n",
       "  Text(6, 0, 'contradiction_entailment'),\n",
       "  Text(7, 0, 'contradiction_neutral'),\n",
       "  Text(8, 0, 'contradiction_contradiction')])"
      ]
     },
     "execution_count": 25,
     "metadata": {},
     "output_type": "execute_result"
    },
    {
     "data": {
      "image/png": "[encoded data removed]",
      "text/plain": [
       "<Figure size 1440x720 with 1 Axes>"
      ]
     },
     "metadata": {
      "needs_background": "light"
     },
     "output_type": "display_data"
    }
   ],
   "source": [
    "fig2 = plt.figure(figsize=(20,10))\n",
    "sns.boxplot(data=valores_labels)\n",
    "plt.grid()\n",
    "plt.xticks(range(9),labels,rotation=90)"
   ]
  },
  {
   "attachments": {},
   "cell_type": "markdown",
   "metadata": {},
   "source": [
    "# Procesamiento para generar boxplot por muestreos"
   ]
  },
  {
   "cell_type": "code",
   "execution_count": 26,
   "metadata": {},
   "outputs": [],
   "source": [
    "l_grupos=dfn.grupo.unique()\n",
    "labels_g=[]\n",
    "datos_g=[]\n",
    "grupo_g=[]\n",
    "for lg in l_grupos:\n",
    "    for lab in labels:\n",
    "        l_mean_entropia=[]\n",
    "        temp=dfn[(dfn['grupo']==lg) & (dfn['E_P']==lab) & (dfn['Paraphrase']==0)]\n",
    "        for index,strings in temp.iterrows():\n",
    "            l_mean_entropia.append(np.nanmean(strings['entropia']))\n",
    "        labels_g.append(lab)\n",
    "        datos_g.append(l_mean_entropia[:])\n",
    "        l_mean_entropia.clear()\n",
    "        grupo_g.append(lg)"
   ]
  },
  {
   "cell_type": "code",
   "execution_count": 27,
   "metadata": {},
   "outputs": [
    {
     "data": {
      "text/plain": [
       "array(['Originales'], dtype=object)"
      ]
     },
     "execution_count": 27,
     "metadata": {},
     "output_type": "execute_result"
    }
   ],
   "source": [
    "l_grupos"
   ]
  },
  {
   "cell_type": "code",
   "execution_count": 28,
   "metadata": {},
   "outputs": [
    {
     "name": "stderr",
     "output_type": "stream",
     "text": [
      "/tmp/ipykernel_41217/851018540.py:13: RuntimeWarning: Mean of empty slice\n",
      "  mean=np.nanmean(strings['entropia'])\n"
     ]
    }
   ],
   "source": [
    "l_grupos_p=dfn.grupo.unique()\n",
    "labels_g_p=[]\n",
    "datos_g_p=[]\n",
    "grupo_g_p=[]\n",
    "muestreo=[]\n",
    "g=[\"GPT2\",\"GPT3\"]\n",
    "i=0\n",
    "for lg in l_grupos_p:\n",
    "    for lab in labels:\n",
    "        l_mean_entropia_p=[]\n",
    "        temp=dfn[(dfn['grupo']==lg) & (dfn['E_P']==lab) & (dfn['Paraphrase']==1)]\n",
    "        for index,strings in temp.iterrows():\n",
    "            mean=np.nanmean(strings['entropia'])\n",
    "        labels_g_p.append(lab)\n",
    "        datos_g_p.append(mean)\n",
    "        l_mean_entropia_p.clear()\n",
    "        grupo_g_p.append(lg)\n",
    "        muestreo.append(g[i])\n",
    "    i+=1"
   ]
  },
  {
   "cell_type": "code",
   "execution_count": 29,
   "metadata": {},
   "outputs": [
    {
     "data": {
      "text/plain": [
       "['GPT2', 'GPT2', 'GPT2', 'GPT2', 'GPT2', 'GPT2', 'GPT2', 'GPT2', 'GPT2']"
      ]
     },
     "execution_count": 29,
     "metadata": {},
     "output_type": "execute_result"
    }
   ],
   "source": [
    "muestreo"
   ]
  },
  {
   "cell_type": "code",
   "execution_count": 30,
   "metadata": {},
   "outputs": [],
   "source": [
    "datosGPT=pd.DataFrame([datos_g_p,labels_g_p,muestreo],index=[\"values\",\"labels\",\"grupo\"])\n",
    "datosGPT=datosGPT.T"
   ]
  },
  {
   "cell_type": "code",
   "execution_count": 31,
   "metadata": {},
   "outputs": [
    {
     "data": {
      "text/html": [
       "<div>\n",
       "<style scoped>\n",
       "    .dataframe tbody tr th:only-of-type {\n",
       "        vertical-align: middle;\n",
       "    }\n",
       "\n",
       "    .dataframe tbody tr th {\n",
       "        vertical-align: top;\n",
       "    }\n",
       "\n",
       "    .dataframe thead th {\n",
       "        text-align: right;\n",
       "    }\n",
       "</style>\n",
       "<table border=\"1\" class=\"dataframe\">\n",
       "  <thead>\n",
       "    <tr style=\"text-align: right;\">\n",
       "      <th></th>\n",
       "      <th>values</th>\n",
       "      <th>labels</th>\n",
       "      <th>grupo</th>\n",
       "    </tr>\n",
       "  </thead>\n",
       "  <tbody>\n",
       "    <tr>\n",
       "      <th>0</th>\n",
       "      <td>NaN</td>\n",
       "      <td>entailment_entailment</td>\n",
       "      <td>GPT2</td>\n",
       "    </tr>\n",
       "    <tr>\n",
       "      <th>1</th>\n",
       "      <td>0.948562</td>\n",
       "      <td>entailment_neutral</td>\n",
       "      <td>GPT2</td>\n",
       "    </tr>\n",
       "    <tr>\n",
       "      <th>2</th>\n",
       "      <td>0.958125</td>\n",
       "      <td>entailment_contradiction</td>\n",
       "      <td>GPT2</td>\n",
       "    </tr>\n",
       "    <tr>\n",
       "      <th>3</th>\n",
       "      <td>0.95436</td>\n",
       "      <td>neutral_entailment</td>\n",
       "      <td>GPT2</td>\n",
       "    </tr>\n",
       "    <tr>\n",
       "      <th>4</th>\n",
       "      <td>0.969</td>\n",
       "      <td>neutral_neutral</td>\n",
       "      <td>GPT2</td>\n",
       "    </tr>\n",
       "    <tr>\n",
       "      <th>5</th>\n",
       "      <td>0.953167</td>\n",
       "      <td>neutral_contradiction</td>\n",
       "      <td>GPT2</td>\n",
       "    </tr>\n",
       "    <tr>\n",
       "      <th>6</th>\n",
       "      <td>0.93825</td>\n",
       "      <td>contradiction_entailment</td>\n",
       "      <td>GPT2</td>\n",
       "    </tr>\n",
       "    <tr>\n",
       "      <th>7</th>\n",
       "      <td>0.950367</td>\n",
       "      <td>contradiction_neutral</td>\n",
       "      <td>GPT2</td>\n",
       "    </tr>\n",
       "    <tr>\n",
       "      <th>8</th>\n",
       "      <td>0.951</td>\n",
       "      <td>contradiction_contradiction</td>\n",
       "      <td>GPT2</td>\n",
       "    </tr>\n",
       "  </tbody>\n",
       "</table>\n",
       "</div>"
      ],
      "text/plain": [
       "     values                       labels grupo\n",
       "0       NaN        entailment_entailment  GPT2\n",
       "1  0.948562           entailment_neutral  GPT2\n",
       "2  0.958125     entailment_contradiction  GPT2\n",
       "3   0.95436           neutral_entailment  GPT2\n",
       "4     0.969              neutral_neutral  GPT2\n",
       "5  0.953167        neutral_contradiction  GPT2\n",
       "6   0.93825     contradiction_entailment  GPT2\n",
       "7  0.950367        contradiction_neutral  GPT2\n",
       "8     0.951  contradiction_contradiction  GPT2"
      ]
     },
     "execution_count": 31,
     "metadata": {},
     "output_type": "execute_result"
    }
   ],
   "source": [
    "datosGPT"
   ]
  },
  {
   "cell_type": "code",
   "execution_count": 32,
   "metadata": {},
   "outputs": [
    {
     "data": {
      "text/plain": [
       "<AxesSubplot:xlabel='labels', ylabel='values'>"
      ]
     },
     "execution_count": 32,
     "metadata": {},
     "output_type": "execute_result"
    },
    {
     "data": {
      "image/png": "[encoded data removed]",
      "text/plain": [
       "<Figure size 1440x720 with 1 Axes>"
      ]
     },
     "metadata": {
      "needs_background": "light"
     },
     "output_type": "display_data"
    }
   ],
   "source": [
    "fig2 = plt.figure(figsize=(20,10))\n",
    "#ax = fig2.add_axes([-1,1,1,1])\n",
    "#ax.tick_params(labelsize=10)\n",
    "#ax.grid(visible=True)\n",
    "sns.scatterplot(data=datosGPT,x=\"labels\",y=\"values\",hue=\"grupo\",s=200)\n",
    "#ax.set_xticklabels(labels_g_p,fontsize=20,rotation=90)\n",
    "#plt.title(\"MEAN entropy grupo GPT2 vs GPT3\",fontsize=30)"
   ]
  },
  {
   "cell_type": "code",
   "execution_count": 33,
   "metadata": {},
   "outputs": [
    {
     "ename": "IndexError",
     "evalue": "list index out of range",
     "output_type": "error",
     "traceback": [
      "\u001b[0;31m---------------------------------------------------------------------------\u001b[0m",
      "\u001b[0;31mIndexError\u001b[0m                                Traceback (most recent call last)",
      "\u001b[1;32m/media/david/adds/MODELOS_PARAPHRASE_RTE/RTE_Parik/visualizacionZscoreGPT3_GPT2.ipynb Celda 32\u001b[0m in \u001b[0;36m<module>\u001b[0;34m\u001b[0m\n\u001b[1;32m      <a href='vscode-notebook-cell:/media/david/adds/MODELOS_PARAPHRASE_RTE/RTE_Parik/visualizacionZscoreGPT3_GPT2.ipynb#X45sZmlsZQ%3D%3D?line=3'>4</a>\u001b[0m ax\u001b[39m.\u001b[39mgrid(visible\u001b[39m=\u001b[39m\u001b[39mTrue\u001b[39;00m)\n\u001b[1;32m      <a href='vscode-notebook-cell:/media/david/adds/MODELOS_PARAPHRASE_RTE/RTE_Parik/visualizacionZscoreGPT3_GPT2.ipynb#X45sZmlsZQ%3D%3D?line=4'>5</a>\u001b[0m plt\u001b[39m.\u001b[39mtitle(\u001b[39m\"\u001b[39m\u001b[39mMEAN entropy grupo GPT3 Paraphrase\u001b[39m\u001b[39m\"\u001b[39m,fontsize\u001b[39m=\u001b[39m\u001b[39m30\u001b[39m)\n\u001b[0;32m----> <a href='vscode-notebook-cell:/media/david/adds/MODELOS_PARAPHRASE_RTE/RTE_Parik/visualizacionZscoreGPT3_GPT2.ipynb#X45sZmlsZQ%3D%3D?line=5'>6</a>\u001b[0m bp0 \u001b[39m=\u001b[39m sns\u001b[39m.\u001b[39;49mboxplot(data\u001b[39m=\u001b[39;49mdatos_g_p[\u001b[39m9\u001b[39;49m:\u001b[39m18\u001b[39;49m],linewidth\u001b[39m=\u001b[39;49m\u001b[39m5\u001b[39;49m,palette\u001b[39m=\u001b[39;49m\u001b[39m\"\u001b[39;49m\u001b[39mBlues\u001b[39;49m\u001b[39m\"\u001b[39;49m)\n\u001b[1;32m      <a href='vscode-notebook-cell:/media/david/adds/MODELOS_PARAPHRASE_RTE/RTE_Parik/visualizacionZscoreGPT3_GPT2.ipynb#X45sZmlsZQ%3D%3D?line=6'>7</a>\u001b[0m ax\u001b[39m.\u001b[39mset_xticklabels(labels_g_p[\u001b[39m9\u001b[39m:\u001b[39m18\u001b[39m],fontsize\u001b[39m=\u001b[39m\u001b[39m20\u001b[39m,rotation\u001b[39m=\u001b[39m\u001b[39m90\u001b[39m)\n",
      "File \u001b[0;32m~/.local/lib/python3.8/site-packages/seaborn/_decorators.py:46\u001b[0m, in \u001b[0;36m_deprecate_positional_args.<locals>.inner_f\u001b[0;34m(*args, **kwargs)\u001b[0m\n\u001b[1;32m     36\u001b[0m     warnings\u001b[39m.\u001b[39mwarn(\n\u001b[1;32m     37\u001b[0m         \u001b[39m\"\u001b[39m\u001b[39mPass the following variable\u001b[39m\u001b[39m{}\u001b[39;00m\u001b[39m as \u001b[39m\u001b[39m{}\u001b[39;00m\u001b[39mkeyword arg\u001b[39m\u001b[39m{}\u001b[39;00m\u001b[39m: \u001b[39m\u001b[39m{}\u001b[39;00m\u001b[39m. \u001b[39m\u001b[39m\"\u001b[39m\n\u001b[1;32m     38\u001b[0m         \u001b[39m\"\u001b[39m\u001b[39mFrom version 0.12, the only valid positional argument \u001b[39m\u001b[39m\"\u001b[39m\n\u001b[0;32m   (...)\u001b[0m\n\u001b[1;32m     43\u001b[0m         \u001b[39mFutureWarning\u001b[39;00m\n\u001b[1;32m     44\u001b[0m     )\n\u001b[1;32m     45\u001b[0m kwargs\u001b[39m.\u001b[39mupdate({k: arg \u001b[39mfor\u001b[39;00m k, arg \u001b[39min\u001b[39;00m \u001b[39mzip\u001b[39m(sig\u001b[39m.\u001b[39mparameters, args)})\n\u001b[0;32m---> 46\u001b[0m \u001b[39mreturn\u001b[39;00m f(\u001b[39m*\u001b[39;49m\u001b[39m*\u001b[39;49mkwargs)\n",
      "File \u001b[0;32m~/.local/lib/python3.8/site-packages/seaborn/categorical.py:2243\u001b[0m, in \u001b[0;36mboxplot\u001b[0;34m(x, y, hue, data, order, hue_order, orient, color, palette, saturation, width, dodge, fliersize, linewidth, whis, ax, **kwargs)\u001b[0m\n\u001b[1;32m   2231\u001b[0m \u001b[39m@_deprecate_positional_args\u001b[39m\n\u001b[1;32m   2232\u001b[0m \u001b[39mdef\u001b[39;00m \u001b[39mboxplot\u001b[39m(\n\u001b[1;32m   2233\u001b[0m     \u001b[39m*\u001b[39m,\n\u001b[0;32m   (...)\u001b[0m\n\u001b[1;32m   2240\u001b[0m     \u001b[39m*\u001b[39m\u001b[39m*\u001b[39mkwargs\n\u001b[1;32m   2241\u001b[0m ):\n\u001b[0;32m-> 2243\u001b[0m     plotter \u001b[39m=\u001b[39m _BoxPlotter(x, y, hue, data, order, hue_order,\n\u001b[1;32m   2244\u001b[0m                           orient, color, palette, saturation,\n\u001b[1;32m   2245\u001b[0m                           width, dodge, fliersize, linewidth)\n\u001b[1;32m   2247\u001b[0m     \u001b[39mif\u001b[39;00m ax \u001b[39mis\u001b[39;00m \u001b[39mNone\u001b[39;00m:\n\u001b[1;32m   2248\u001b[0m         ax \u001b[39m=\u001b[39m plt\u001b[39m.\u001b[39mgca()\n",
      "File \u001b[0;32m~/.local/lib/python3.8/site-packages/seaborn/categorical.py:406\u001b[0m, in \u001b[0;36m_BoxPlotter.__init__\u001b[0;34m(self, x, y, hue, data, order, hue_order, orient, color, palette, saturation, width, dodge, fliersize, linewidth)\u001b[0m\n\u001b[1;32m    402\u001b[0m \u001b[39mdef\u001b[39;00m \u001b[39m__init__\u001b[39m(\u001b[39mself\u001b[39m, x, y, hue, data, order, hue_order,\n\u001b[1;32m    403\u001b[0m              orient, color, palette, saturation,\n\u001b[1;32m    404\u001b[0m              width, dodge, fliersize, linewidth):\n\u001b[0;32m--> 406\u001b[0m     \u001b[39mself\u001b[39;49m\u001b[39m.\u001b[39;49mestablish_variables(x, y, hue, data, orient, order, hue_order)\n\u001b[1;32m    407\u001b[0m     \u001b[39mself\u001b[39m\u001b[39m.\u001b[39mestablish_colors(color, palette, saturation)\n\u001b[1;32m    409\u001b[0m     \u001b[39mself\u001b[39m\u001b[39m.\u001b[39mdodge \u001b[39m=\u001b[39m dodge\n",
      "File \u001b[0;32m~/.local/lib/python3.8/site-packages/seaborn/categorical.py:118\u001b[0m, in \u001b[0;36m_CategoricalPlotter.establish_variables\u001b[0;34m(self, x, y, hue, data, orient, order, hue_order, units)\u001b[0m\n\u001b[1;32m    115\u001b[0m     plot_data \u001b[39m=\u001b[39m [[]]\n\u001b[1;32m    117\u001b[0m \u001b[39m# The input data is a flat list\u001b[39;00m\n\u001b[0;32m--> 118\u001b[0m \u001b[39melif\u001b[39;00m np\u001b[39m.\u001b[39misscalar(data[\u001b[39m0\u001b[39;49m]):\n\u001b[1;32m    119\u001b[0m     plot_data \u001b[39m=\u001b[39m [data]\n\u001b[1;32m    121\u001b[0m \u001b[39m# The input data is a nested list\u001b[39;00m\n\u001b[1;32m    122\u001b[0m \u001b[39m# This will catch some things that might fail later\u001b[39;00m\n\u001b[1;32m    123\u001b[0m \u001b[39m# but exhaustive checks are hard\u001b[39;00m\n\u001b[1;32m    124\u001b[0m \u001b[39melse\u001b[39;00m:\n",
      "\u001b[0;31mIndexError\u001b[0m: list index out of range"
     ]
    },
    {
     "data": {
      "image/png": "[encoded data removed]",
      "text/plain": [
       "<Figure size 1440x720 with 1 Axes>"
      ]
     },
     "metadata": {
      "needs_background": "light"
     },
     "output_type": "display_data"
    }
   ],
   "source": [
    "fig2 = plt.figure(figsize=(20,10))\n",
    "ax = fig2.add_axes([-1,1,1,1])\n",
    "ax.tick_params(labelsize=20)\n",
    "ax.grid(visible=True)\n",
    "plt.title(\"MEAN entropy grupo GPT3 Paraphrase\",fontsize=30)\n",
    "bp0 = sns.boxplot(data=datos_g_p[9:18],linewidth=5,palette=\"Blues\")\n",
    "ax.set_xticklabels(labels_g_p[9:18],fontsize=20,rotation=90)\n"
   ]
  }
 ],
 "metadata": {
  "kernelspec": {
   "display_name": "Python 3",
   "language": "python",
   "name": "python3"
  },
  "language_info": {
   "codemirror_mode": {
    "name": "ipython",
    "version": 3
   },
   "file_extension": ".py",
   "mimetype": "text/x-python",
   "name": "python",
   "nbconvert_exporter": "python",
   "pygments_lexer": "ipython3",
   "version": "3.8.10"
  },
  "orig_nbformat": 4
 },
 "nbformat": 4,
 "nbformat_minor": 2
}
